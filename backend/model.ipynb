{
 "cells": [
  {
   "cell_type": "code",
   "execution_count": 19,
   "metadata": {},
   "outputs": [],
   "source": [
    "import gensim\n",
    "# from gensim.models import FastText\n",
    "model_path = \"./cc.ja.300.vec\"\n",
    "model = gensim.models.KeyedVectors.load_word2vec_format(model_path)\n",
    "# model = gensim.models.keyedvectors.KeyedVectors.load_word2vec_format(model_path, binary=True)"
   ]
  },
  {
   "cell_type": "code",
   "execution_count": 5,
   "metadata": {},
   "outputs": [
    {
     "name": "stdout",
     "output_type": "stream",
     "text": [
      "[ 0.114   0.1012  0.1955  0.0434 -0.048   0.002  -0.1065  0.5086 -0.0172\n",
      "  0.229   0.1487  0.0494  0.2528 -0.0825 -0.3668 -0.0609  0.2337  0.2969\n",
      "  0.0071 -0.1912  0.1457  0.1003 -0.0666 -0.1136  0.3256  0.3287  0.3896\n",
      "  0.0705 -0.1463  0.0298  0.1346  0.3001 -0.2464 -0.1925 -0.253   0.2206\n",
      " -0.2685  0.1494 -0.0957 -0.1998  0.2756  0.1784  0.158  -0.2393 -0.0114\n",
      " -0.0781 -0.01    0.1942 -0.2322 -0.2112  0.0454 -0.257   0.1563 -0.0873\n",
      " -0.2875 -0.2602  0.0506 -0.0842 -0.1043  0.078   0.0296 -0.0843  0.3292\n",
      "  0.3123  0.0469 -0.1074 -0.2021 -0.325   0.0805  0.281  -0.0623 -0.4199\n",
      "  0.0374  0.1196  0.1084 -0.0591 -0.5927 -0.0271 -0.1872  0.1318 -0.1475\n",
      "  0.1822 -0.0994  0.2962  0.0178 -0.1975  0.2502 -0.0716 -0.0057  0.0157\n",
      " -0.1953  0.0096  0.0404 -0.2095 -0.2508 -0.2417 -0.0598  0.1975  0.1309\n",
      "  0.072   0.2576  0.3796 -0.185   0.2087 -0.188   0.26   -0.3376  0.1759\n",
      "  0.2414  0.0362 -0.3628 -0.0317 -0.1882 -0.4057  0.0729  0.1166 -0.1651\n",
      " -0.0238  0.7279 -0.249  -0.0376 -0.255  -0.0508  0.0483 -0.0394 -0.1078\n",
      " -0.0979  0.1376 -0.2021 -0.0619 -0.2146 -0.1582 -0.0994 -0.044   0.0639\n",
      "  0.2999 -0.151   0.0239 -0.0111  0.1289 -0.0615  0.0964  0.4278  0.1019\n",
      "  0.122   0.002  -0.069  -0.0668  0.0473  0.0851  0.2376 -0.1762 -0.2476\n",
      " -0.0365  0.6206  0.0612  0.4096  0.1431  0.3112 -0.2381 -0.0885  0.1568\n",
      " -0.0178  0.0443 -0.191   0.0622  0.0752  0.1737 -0.1366 -0.1284 -0.4023\n",
      "  0.1057  0.0702  0.0366 -0.0506 -0.142  -0.1004 -0.0687 -0.3098  0.0333\n",
      " -0.1585  0.2582  0.0952 -0.1008  0.1105 -0.3235  0.1191  0.0503 -0.0809\n",
      "  0.056  -0.1917  0.0178  0.3552  0.1585  0.1163  0.1328  0.0161 -0.0526\n",
      " -0.2176 -0.0411  0.2211  0.0504 -0.0472  0.0331  0.0024 -0.0225  0.1185\n",
      "  0.3578 -0.2934 -0.0996  0.0653 -0.1199  0.0933 -0.3086  0.0799  0.1276\n",
      " -0.0051 -0.9787  0.0514  0.314   0.2975  0.0435 -0.3148 -0.5741  0.1506\n",
      " -0.1473 -0.0605 -0.1791 -0.0446  0.2215  0.0649 -0.0763 -0.1951  0.1305\n",
      "  0.1731 -0.0925 -0.3203 -0.052   0.0905  0.4386 -0.2538  0.0807 -0.132\n",
      " -0.1578  0.0559 -0.1356 -0.0103 -0.1373  0.0323 -0.2693 -0.0062 -0.0498\n",
      "  0.0549  0.1412  0.179   0.2105 -0.0195 -0.1805  0.3144  0.4553 -0.0741\n",
      "  0.2624 -0.0851  0.1706  0.4529 -0.2308  0.3204  0.3747  0.0911 -0.2993\n",
      "  0.2303 -0.166   0.2493 -0.0663 -0.2001  0.1529  0.2999  0.0225  0.018\n",
      "  0.0584 -0.1549 -0.0577 -0.1174  0.1909 -0.0166 -0.0817 -0.0116  0.0409\n",
      " -0.0174 -0.2097 -0.0362 -0.2474 -0.1673  0.324  -0.0338  0.127   0.0674\n",
      "  0.0809  0.2747  0.0415]\n",
      "[ 9.680e-02  2.026e-01  4.959e-01  9.230e-02  8.490e-02  6.860e-02\n",
      "  3.780e-02  6.400e-02 -1.500e-02  6.270e-02  1.818e-01 -8.790e-02\n",
      "  1.330e-02  9.120e-02 -2.369e-01 -2.011e-01 -5.150e-02  3.950e-02\n",
      " -1.730e-02 -2.481e-01 -1.041e-01  1.153e-01 -3.370e-01  1.172e-01\n",
      "  5.860e-02 -5.470e-02  1.260e-01 -1.509e-01  2.734e-01  3.016e-01\n",
      "  1.968e-01 -2.647e-01  4.800e-02  6.960e-02 -6.130e-02 -4.090e-02\n",
      "  1.015e-01  2.350e-02  7.800e-02 -1.686e-01 -1.710e-02  6.910e-02\n",
      " -4.842e-01  2.560e-02  1.268e-01 -2.300e-01 -3.880e-02  1.218e-01\n",
      " -3.620e-02  6.300e-03  1.093e-01 -5.300e-03 -2.430e-02 -1.483e-01\n",
      " -7.960e-02  3.060e-02  1.378e-01 -1.251e-01  8.490e-02  1.268e-01\n",
      "  5.420e-02  3.196e-01  7.370e-02 -2.903e-01  9.510e-02 -2.990e-02\n",
      "  7.420e-02 -1.112e-01 -4.290e-02  1.579e-01 -3.021e-01 -7.320e-02\n",
      " -1.239e-01 -1.760e-01 -3.920e-02  1.410e-02  2.460e-02 -1.381e-01\n",
      " -6.090e-02 -2.117e-01  1.403e-01  1.467e-01 -2.067e-01  5.300e-03\n",
      "  8.370e-02  2.065e-01 -9.450e-02 -2.150e-02  1.671e-01  1.572e-01\n",
      "  3.760e-02 -9.100e-03 -1.602e-01  1.175e-01 -2.057e-01 -2.480e-02\n",
      " -3.792e-01  4.280e-02 -1.158e-01 -1.420e-01 -1.613e-01 -1.329e-01\n",
      "  3.270e-02 -1.135e-01  1.252e-01  7.610e-01 -9.080e-02 -1.096e-01\n",
      " -8.410e-02 -3.000e-04  4.750e-02  4.100e-01  1.491e-01 -1.001e-01\n",
      " -3.723e-01  2.788e-01 -2.801e-01 -1.687e-01 -4.090e-02 -8.870e-02\n",
      "  6.100e-03  1.115e-01  5.190e-02 -1.321e-01 -4.252e-01  2.980e-02\n",
      "  1.094e-01  1.711e-01  3.635e-01 -1.900e-03 -1.187e-01  1.772e-01\n",
      "  4.302e-01 -8.810e-02  7.260e-02 -6.930e-01 -4.080e-02  2.000e-03\n",
      " -7.500e-02 -1.387e-01  1.680e-01 -6.420e-02  2.830e-02  4.580e-02\n",
      "  1.939e-01  1.366e-01 -7.000e-03  1.626e-01 -2.452e-01 -2.452e-01\n",
      " -8.840e-02 -5.330e-02 -2.816e-01  8.290e-02  3.956e-01 -2.080e-02\n",
      "  1.152e-01 -8.310e-02  1.046e-01 -9.410e-02 -1.463e-01 -1.610e-02\n",
      " -1.191e-01  2.714e-01 -1.346e-01  1.395e-01 -2.150e-01 -1.096e-01\n",
      " -5.020e-02  1.364e-01 -2.540e-02 -3.080e-02 -3.910e-02 -3.400e-03\n",
      " -1.929e-01  1.216e-01  1.631e-01  6.170e-02  2.440e-02 -4.340e-02\n",
      "  2.753e-01 -3.290e-01  4.300e-02  2.577e-01  2.048e-01 -1.187e-01\n",
      " -1.081e-01  1.777e-01  3.362e-01 -1.041e-01 -8.440e-02  3.330e-02\n",
      " -2.568e-01  1.320e-01  3.550e-02  1.243e-01  2.240e-02  9.640e-02\n",
      " -1.186e-01 -5.040e-02 -2.507e-01  3.025e-01  2.370e-02 -7.490e-02\n",
      "  6.210e-02 -5.520e-02 -8.440e-02  1.366e-01 -1.820e-01 -3.302e-01\n",
      "  1.750e-02  5.980e-02  6.050e-02  1.209e-01  2.673e-01 -9.540e-02\n",
      " -4.090e-02 -7.944e-01 -1.239e-01 -4.640e-02  3.060e-02  6.400e-03\n",
      "  1.792e-01  1.747e-01  5.580e-02 -1.464e-01  1.145e-01 -8.320e-02\n",
      " -8.000e-04  1.979e-01  1.278e-01  1.355e-01 -1.463e-01 -1.265e-01\n",
      " -1.834e-01 -1.550e-01 -1.451e-01 -6.200e-02 -1.230e-02  1.967e-01\n",
      "  6.800e-03  1.516e-01  7.810e-02 -3.282e-01 -1.098e-01  1.601e-01\n",
      " -1.645e-01  4.083e-01 -2.408e-01  3.170e-01 -1.881e-01 -2.642e-01\n",
      " -2.000e-04  1.405e-01  3.500e-02  1.115e-01  1.459e-01 -2.670e-02\n",
      "  1.021e-01  4.790e-02  2.536e-01  3.200e-03  1.125e-01 -1.890e-01\n",
      "  1.450e-01 -1.826e-01 -4.743e-01 -1.118e-01  1.334e-01  6.300e-02\n",
      " -1.553e-01  1.127e-01 -9.150e-02  1.235e-01  3.410e-02 -1.400e-01\n",
      " -1.278e-01 -1.681e-01 -2.370e-02  9.730e-02 -7.520e-02 -1.439e-01\n",
      " -0.000e+00 -1.314e-01 -2.110e-02 -2.170e-02  6.800e-02  3.014e-01\n",
      " -9.320e-02  5.040e-02 -2.370e-02 -4.320e-02 -1.040e-01 -1.514e-01\n",
      " -3.721e-01 -2.120e-02 -2.940e-02 -1.074e-01 -8.930e-02  1.585e-01]\n"
     ]
    }
   ],
   "source": [
    "print(model[\"言語\"])\n",
    "print(model[\"東京\"])"
   ]
  },
  {
   "cell_type": "code",
   "execution_count": 7,
   "metadata": {},
   "outputs": [
    {
     "data": {
      "text/plain": [
       "[('阪神タイガース', 0.6485079526901245),\n",
       " ('ヘアラルト', 0.6390082240104675),\n",
       " ('阪急', 0.6385752558708191),\n",
       " ('阪神電鉄', 0.6247004270553589),\n",
       " ('尼崎', 0.5888009667396545),\n",
       " ('ターマイトラボ', 0.5874483585357666),\n",
       " ('金本', 0.5839059352874756),\n",
       " ('タイガース', 0.5838422179222107),\n",
       " ('タイガーズ', 0.579707682132721),\n",
       " ('淡路', 0.5745691061019897)]"
      ]
     },
     "execution_count": 7,
     "metadata": {},
     "output_type": "execute_result"
    }
   ],
   "source": [
    "model.most_similar(\"阪神\")"
   ]
  },
  {
   "cell_type": "code",
   "execution_count": 9,
   "metadata": {},
   "outputs": [
    {
     "data": {
      "text/plain": [
       "[('都', 0.6570985913276672),\n",
       " ('都内', 0.5690093636512756),\n",
       " ('新宿', 0.5296691656112671),\n",
       " ('文京', 0.5155644416809082),\n",
       " ('大阪', 0.5043030977249146),\n",
       " ('京都', 0.4984925091266632),\n",
       " ('杉並', 0.494572252035141),\n",
       " ('墨田', 0.4898358881473541),\n",
       " ('練馬', 0.4886668920516968),\n",
       " ('横浜', 0.48583224415779114)]"
      ]
     },
     "execution_count": 9,
     "metadata": {},
     "output_type": "execute_result"
    }
   ],
   "source": [
    "model.most_similar(positive=[\"日本\", \"東京\"],negative=[\"アメリカ\"])"
   ]
  },
  {
   "cell_type": "code",
   "execution_count": 2,
   "metadata": {},
   "outputs": [
    {
     "ename": "NameError",
     "evalue": "name 'wakati' is not defined",
     "output_type": "error",
     "traceback": [
      "\u001b[0;31m---------------------------------------------------------------------------\u001b[0m",
      "\u001b[0;31mNameError\u001b[0m                                 Traceback (most recent call last)",
      "\u001b[1;32m/opt/firebase/functions/model.ipynb セル 5\u001b[0m line \u001b[0;36m3\n\u001b[1;32m     <a href='vscode-notebook-cell://dev-container%2B7b22686f737450617468223a225c5c5c5c77736c2e6c6f63616c686f73745c5c5562756e7473752d32302e30345c5c686f6d655c5c616b3269655c5c726164696f2d7265636f6d6d656e64222c226c6f63616c446f636b6572223a66616c73652c22636f6e66696746696c65223a7b22246d6964223a312c2270617468223a222f686f6d652f616b3269652f726164696f2d7265636f6d6d656e642f2e646576636f6e7461696e65722f646576636f6e7461696e65722e6a736f6e222c22736368656d65223a227673636f64652d66696c65486f7374227d7d/opt/firebase/functions/model.ipynb#W4sdnNjb2RlLXJlbW90ZQ%3D%3D?line=34'>35</a>\u001b[0m noun_counts \u001b[39m=\u001b[39m []\n\u001b[1;32m     <a href='vscode-notebook-cell://dev-container%2B7b22686f737450617468223a225c5c5c5c77736c2e6c6f63616c686f73745c5c5562756e7473752d32302e30345c5c686f6d655c5c616b3269655c5c726164696f2d7265636f6d6d656e64222c226c6f63616c446f636b6572223a66616c73652c22636f6e66696746696c65223a7b22246d6964223a312c2270617468223a222f686f6d652f616b3269652f726164696f2d7265636f6d6d656e642f2e646576636f6e7461696e65722f646576636f6e7461696e65722e6a736f6e222c22736368656d65223a227673636f64652d66696c65486f7374227d7d/opt/firebase/functions/model.ipynb#W4sdnNjb2RlLXJlbW90ZQ%3D%3D?line=35'>36</a>\u001b[0m \u001b[39mfor\u001b[39;00m text \u001b[39min\u001b[39;00m textes:\n\u001b[0;32m---> <a href='vscode-notebook-cell://dev-container%2B7b22686f737450617468223a225c5c5c5c77736c2e6c6f63616c686f73745c5c5562756e7473752d32302e30345c5c686f6d655c5c616b3269655c5c726164696f2d7265636f6d6d656e64222c226c6f63616c446f636b6572223a66616c73652c22636f6e66696746696c65223a7b22246d6964223a312c2270617468223a222f686f6d652f616b3269652f726164696f2d7265636f6d6d656e642f2e646576636f6e7461696e65722f646576636f6e7461696e65722e6a736f6e222c22736368656d65223a227673636f64652d66696c65486f7374227d7d/opt/firebase/functions/model.ipynb#W4sdnNjb2RlLXJlbW90ZQ%3D%3D?line=36'>37</a>\u001b[0m \tnoun_counts\u001b[39m.\u001b[39mappend(freq_words(text))\n\u001b[1;32m     <a href='vscode-notebook-cell://dev-container%2B7b22686f737450617468223a225c5c5c5c77736c2e6c6f63616c686f73745c5c5562756e7473752d32302e30345c5c686f6d655c5c616b3269655c5c726164696f2d7265636f6d6d656e64222c226c6f63616c446f636b6572223a66616c73652c22636f6e66696746696c65223a7b22246d6964223a312c2270617468223a222f686f6d652f616b3269652f726164696f2d7265636f6d6d656e642f2e646576636f6e7461696e65722f646576636f6e7461696e65722e6a736f6e222c22736368656d65223a227673636f64652d66696c65486f7374227d7d/opt/firebase/functions/model.ipynb#W4sdnNjb2RlLXJlbW90ZQ%3D%3D?line=39'>40</a>\u001b[0m \u001b[39m# print(list(dict(noun_count[:10]).keys()))\u001b[39;00m\n\u001b[1;32m     <a href='vscode-notebook-cell://dev-container%2B7b22686f737450617468223a225c5c5c5c77736c2e6c6f63616c686f73745c5c5562756e7473752d32302e30345c5c686f6d655c5c616b3269655c5c726164696f2d7265636f6d6d656e64222c226c6f63616c446f636b6572223a66616c73652c22636f6e66696746696c65223a7b22246d6964223a312c2270617468223a222f686f6d652f616b3269652f726164696f2d7265636f6d6d656e642f2e646576636f6e7461696e65722f646576636f6e7461696e65722e6a736f6e222c22736368656d65223a227673636f64652d66696c65486f7374227d7d/opt/firebase/functions/model.ipynb#W4sdnNjb2RlLXJlbW90ZQ%3D%3D?line=40'>41</a>\u001b[0m \u001b[39mfor\u001b[39;00m noun \u001b[39min\u001b[39;00m noun_counts:\n",
      "\u001b[1;32m/opt/firebase/functions/model.ipynb セル 5\u001b[0m line \u001b[0;36m1\n\u001b[1;32m     <a href='vscode-notebook-cell://dev-container%2B7b22686f737450617468223a225c5c5c5c77736c2e6c6f63616c686f73745c5c5562756e7473752d32302e30345c5c686f6d655c5c616b3269655c5c726164696f2d7265636f6d6d656e64222c226c6f63616c446f636b6572223a66616c73652c22636f6e66696746696c65223a7b22246d6964223a312c2270617468223a222f686f6d652f616b3269652f726164696f2d7265636f6d6d656e642f2e646576636f6e7461696e65722f646576636f6e7461696e65722e6a736f6e222c22736368656d65223a227673636f64652d66696c65486f7374227d7d/opt/firebase/functions/model.ipynb#W4sdnNjb2RlLXJlbW90ZQ%3D%3D?line=12'>13</a>\u001b[0m mecabTagger \u001b[39m=\u001b[39m MeCab\u001b[39m.\u001b[39mTagger()\n\u001b[1;32m     <a href='vscode-notebook-cell://dev-container%2B7b22686f737450617468223a225c5c5c5c77736c2e6c6f63616c686f73745c5c5562756e7473752d32302e30345c5c686f6d655c5c616b3269655c5c726164696f2d7265636f6d6d656e64222c226c6f63616c446f636b6572223a66616c73652c22636f6e66696746696c65223a7b22246d6964223a312c2270617468223a222f686f6d652f616b3269652f726164696f2d7265636f6d6d656e642f2e646576636f6e7461696e65722f646576636f6e7461696e65722e6a736f6e222c22736368656d65223a227673636f64652d66696c65486f7374227d7d/opt/firebase/functions/model.ipynb#W4sdnNjb2RlLXJlbW90ZQ%3D%3D?line=13'>14</a>\u001b[0m noun_count \u001b[39m=\u001b[39m {}\n\u001b[0;32m---> <a href='vscode-notebook-cell://dev-container%2B7b22686f737450617468223a225c5c5c5c77736c2e6c6f63616c686f73745c5c5562756e7473752d32302e30345c5c686f6d655c5c616b3269655c5c726164696f2d7265636f6d6d656e64222c226c6f63616c446f636b6572223a66616c73652c22636f6e66696746696c65223a7b22246d6964223a312c2270617468223a222f686f6d652f616b3269652f726164696f2d7265636f6d6d656e642f2e646576636f6e7461696e65722f646576636f6e7461696e65722e6a736f6e222c22736368656d65223a227673636f64652d66696c65486f7374227d7d/opt/firebase/functions/model.ipynb#W4sdnNjb2RlLXJlbW90ZQ%3D%3D?line=15'>16</a>\u001b[0m node \u001b[39m=\u001b[39m wakati\u001b[39m.\u001b[39mparseToNode(text)\n\u001b[1;32m     <a href='vscode-notebook-cell://dev-container%2B7b22686f737450617468223a225c5c5c5c77736c2e6c6f63616c686f73745c5c5562756e7473752d32302e30345c5c686f6d655c5c616b3269655c5c726164696f2d7265636f6d6d656e64222c226c6f63616c446f636b6572223a66616c73652c22636f6e66696746696c65223a7b22246d6964223a312c2270617468223a222f686f6d652f616b3269652f726164696f2d7265636f6d6d656e642f2e646576636f6e7461696e65722f646576636f6e7461696e65722e6a736f6e222c22736368656d65223a227673636f64652d66696c65486f7374227d7d/opt/firebase/functions/model.ipynb#W4sdnNjb2RlLXJlbW90ZQ%3D%3D?line=16'>17</a>\u001b[0m node \u001b[39m=\u001b[39m mecabTagger\u001b[39m.\u001b[39mparseToNode(text)\n\u001b[1;32m     <a href='vscode-notebook-cell://dev-container%2B7b22686f737450617468223a225c5c5c5c77736c2e6c6f63616c686f73745c5c5562756e7473752d32302e30345c5c686f6d655c5c616b3269655c5c726164696f2d7265636f6d6d656e64222c226c6f63616c446f636b6572223a66616c73652c22636f6e66696746696c65223a7b22246d6964223a312c2270617468223a222f686f6d652f616b3269652f726164696f2d7265636f6d6d656e642f2e646576636f6e7461696e65722f646576636f6e7461696e65722e6a736f6e222c22736368656d65223a227673636f64652d66696c65486f7374227d7d/opt/firebase/functions/model.ipynb#W4sdnNjb2RlLXJlbW90ZQ%3D%3D?line=17'>18</a>\u001b[0m \u001b[39mwhile\u001b[39;00m node:\n",
      "\u001b[0;31mNameError\u001b[0m: name 'wakati' is not defined"
     ]
    }
   ],
   "source": [
    "import MeCab\n",
    "from collections import  Counter\n",
    "textes = ['''パーソルプロセス＆テクノロジーは、人・プロセスデザイン・テクノロジーの3つの力によって、お客様の様々なビジネスプロセスを変革に導くことで、「はたらいて、笑おう。」の世界を実現いたします。\n",
    "少子高齢化による生産労働人口減少という課題に対する解決策は、「はたらく人を増やすこと」と「一人ひとりの生産性を向上させていくこと」のいずれかです。\n",
    "はたらく意思のある方に積極的に参加いただき、人と仕事の適切なマッチングを通じて社会全体で適材適所を推進していくことに加え、テクノロジーを活用しながら業務のあり方を変えていくことが、今後の「仕事」や「はたらき方」に対し大きな影響をもたらします。\n",
    "その中で、私たちは、お客様の生産性向上を徹底的に推進することを使命とし、AIやIoTなどのテクノロジーを活用したDXの推進、RPA導入を含めたコンサルティング・アウトソーシングを通じて、抜本的にビジネスプロセスを変革いたします。\n",
    "私たちは社会問題に正面から向き合い、社会の役に立つ会社でありたい、正解のない課題に対しても失敗を恐れずチャレンジしていきたいと考えています。\n",
    "パーソルプロセス＆テクノロジーは、お客様から選ばれ続ける企業を目指し、挑戦してまいります。''',\n",
    "'''政府は2日、減税やガソリン補助金の延長などを盛り込んだ総合経済対策を閣議決定した。経済対策の規模は17兆円台前半程度となる。経済対策のうち、減税分を除いた財源の裏付けとなる2023年度補正予算案は一般会計で約13・1兆円となる。政府は月内に補正予算案を編成し、今国会中の成立を目指す。対策の大きな柱は、物価高対策だ。所得税と住民税から1人当たり計4万円を定額減税し、住民税非課税世帯に7万円を給付する。また、ガソリンや電気・ガス代に対する補助金政策を来年4月末まで延長する。賃上げを持続させるための税制措置の拡充や、半導体生産など国内投資支援も手厚くする。政府は経済対策による減税や給付などで国民の所得を下支えすることで、物価上昇を1％程度抑制できると見込む。また、実質国内総生産（GDP）を19兆円押し上げ、年間の成長率を1・2％引き上げる効果が期待できるとしている。''',\n",
    "'''岸田文雄首相は2日午前に首相官邸で開いた政府与党政策懇談会で、政府が取りまとめる経済対策の規模について「17兆円台前半程度と見込まれる」と表明した。財源の裏付けとなる2023年度補正予算案は一般会計で約13・1兆円で、首相は「速やかに編成し、できる限り早期の成立を目指す」と述べた。政府は2日午後に経済対策を閣議決定する。経済対策は、首相が来年6月の実施を表明した所得税と住民税の定額減税と、住民税非課税世帯などへの給付で計約5兆円を盛り込むことなどが柱。政府は補正予算案を月内に編成し、今国会中の成立を目指す。''']\n",
    "\n",
    "def freq_words(text):\n",
    "\tmecabTagger = MeCab.Tagger()\n",
    "\tnoun_count = {}\n",
    "\n",
    "\tnode = wakati.parseToNode(text)\n",
    "\tnode = mecabTagger.parseToNode(text)\n",
    "\twhile node:\n",
    "\t\tword = node.surface\n",
    "\t\thinshi = node.feature.split(\",\")[0]\n",
    "\t\tif word in noun_count.keys() and hinshi == \"名詞\":\n",
    "\t\t\tnoun_freq = noun_count[word]\n",
    "\t\t\tnoun_count[word] = noun_freq + 1\n",
    "\t\telif hinshi == \"名詞\":\n",
    "\t\t\tnoun_count[word] = 1\n",
    "\t\telse:\n",
    "\t\t\tpass\n",
    "\t\tnode = node.next\n",
    "\n",
    "\tnoun_count = sorted(noun_count.items(), key=lambda x: x[1], reverse=True)\n",
    "\n",
    "\treturn noun_count\n",
    "\n",
    "# noun_counts = map(freq_words, textes)\n",
    "noun_counts = []\n",
    "for text in textes:\n",
    "\tnoun_counts.append(freq_words(text))\n",
    "\n",
    "\n",
    "# print(list(dict(noun_count[:10]).keys()))\n",
    "for noun in noun_counts:\n",
    "\tprint(noun)"
   ]
  },
  {
   "cell_type": "code",
   "execution_count": 199,
   "metadata": {},
   "outputs": [
    {
     "name": "stdout",
     "output_type": "stream",
     "text": [
      "0.053129256\n",
      "-0.18871085\n",
      "-0.16917124\n"
     ]
    }
   ],
   "source": [
    "import numpy as np\n",
    "\n",
    "np.random.seed(0)\n",
    "\n",
    "def calc_vector(noun_count, topn):\n",
    "\t# vectors = []\n",
    "\t# for i, v in enumerate(noun_counts):\n",
    "\t\t# vectors.append(model[list(dict(v[:topn]).keys())].mean(axis=0))\n",
    "\tvectors = []\n",
    "\twords = list(dict(noun_count[:topn]).keys())\n",
    "\tfor word in words:\n",
    "\t\tif word in model:\n",
    "\t\t\tvectors.append(model[word].mean(axis=0))\n",
    "\t\telse:\n",
    "\t\t\tvectors.append(np.random.randn(model.vector_size).mean(axis=0))\n",
    "\t# for i, vector in enumerate(vectors):\n",
    "\t\t# print(list(dict(noun_count[:10]).keys())[i])\n",
    "\t\t# print(vector.mean(axis=0))\n",
    "\treturn vectors\n",
    "\n",
    "vectors = []\n",
    "for noun in noun_counts:\n",
    "\tvectors.append(calc_vector(noun, 10))\n",
    "\n",
    "# print(vectors)\n",
    "\n",
    "vectors = np.array(vectors)\n",
    "# # 正規化\n",
    "sum_vec = np.sqrt(np.sum(vectors ** 2, axis=1))\n",
    "movie_norm_vectors = vectors / sum_vec.reshape((-1, 1))\n",
    "\n",
    "for i, v in enumerate(movie_norm_vectors):\n",
    "\tprint(movie_norm_vectors[i].mean(axis=0))\n"
   ]
  },
  {
   "cell_type": "code",
   "execution_count": 201,
   "metadata": {},
   "outputs": [
    {
     "name": "stdout",
     "output_type": "stream",
     "text": [
      "[0 2 1]\n"
     ]
    }
   ],
   "source": [
    "# vectors: 正規化済みのベクトル一覧、target:好きな番組\n",
    "def get_similar_indexes(vectors, target):\n",
    "\t# 似たアイテムを探す\n",
    "\t# for i, vec in enumerate(vectors):\n",
    "\t# 内積（コサイン類似度=内積/ベクトルの大きさ(=1)=内積, -1.0:逆, 0:無関係, 1:似ている）\n",
    "\tscore_vec = np.dot(vectors, target)\n",
    "\t# valueの順に決定\n",
    "\tsimilar_indexes = np.argsort(-score_vec)\n",
    "\t# 要素数3の配列になるはず\n",
    "\treturn similar_indexes\n",
    "\n",
    "print(get_similar_indexes(movie_norm_vectors, movie_norm_vectors[0]))"
   ]
  },
  {
   "cell_type": "code",
   "execution_count": 202,
   "metadata": {},
   "outputs": [
    {
     "name": "stdout",
     "output_type": "stream",
     "text": [
      "[-0.017249666, -0.011540335, -0.005261999, -0.00048066734, -0.019979, 0.000119999946, -0.022324, -0.0060129995, -0.0035896667, -0.0062706647]\n",
      "[0.0016446665, 0.0012790002, 0.021403335, -0.0025656656, 0.0009023335, 0.012947334, -0.008217333, -0.0052286666, -0.0013936671, -0.00015266701]\n",
      "[0.000119999946, 0.0034416679, -0.023029333, -0.013855001, 0.00086333335, -0.0011803333, -0.0073130005, -0.027001, -0.011467, -0.0045699994]\n",
      "[-0.002733, -0.008217333, -0.0029940007, 0.027529575240886405, -0.023208335, -0.0011706676, -0.029880663, -0.0071946667, -0.0073130005, -0.009515667]\n",
      "おいでよ!クリエイティ部: -0.24360896192261605\n",
      "#ふらっと: 0.07608919881369179\n",
      "大竹まこと ゴールデンラジオ: -0.20545380443433342\n",
      "荻上チキ・Session: -0.13016635832904846\n",
      "[0 3 2 1]\n"
     ]
    }
   ],
   "source": [
    "import csv\n",
    "import os\n",
    "\n",
    "with open(\"./input.csv\") as f:\n",
    "\treader = csv.DictReader(f)\n",
    "\tvectors = []\n",
    "\ttitles = []\n",
    "\tfor row in reader:\n",
    "\t\tfile_path = os.path.join(\"text\", row[\"broadcast\"], row[\"file_name\"])\n",
    "\t\twith open(file_path) as t:\n",
    "\t\t\ttext = t.read()\n",
    "\t\t\tvector = freq_words(text)\n",
    "\n",
    "\t\t\tvectors.append(calc_vector(vector, 10))\n",
    "\t\t\ttitles.append(row[\"title\"])\n",
    "\n",
    "\tfor vec in vectors:\n",
    "\t\tprint(vec)\n",
    "\n",
    "\tvectors = np.array(vectors)\n",
    "\t# 正規化\n",
    "\tsum_vec = np.sqrt(np.sum(vectors ** 2, axis=1))\n",
    "\tmovie_norm_vectors = vectors / sum_vec.reshape((-1, 1))\n",
    "\n",
    "\tfor i, v in enumerate(movie_norm_vectors):\n",
    "\t\tprint(f'{titles[i]}: {movie_norm_vectors[i].mean(axis=0)}')\n",
    "\n",
    "\tsimilar_indexes = get_similar_indexes(movie_norm_vectors, movie_norm_vectors[0])\n",
    "\tprint(similar_indexes)\n"
   ]
  },
  {
   "cell_type": "code",
   "execution_count": 7,
   "metadata": {},
   "outputs": [],
   "source": [
    "%load_ext autoreload\n",
    "%autoreload 2\n"
   ]
  },
  {
   "cell_type": "code",
   "execution_count": 3,
   "metadata": {},
   "outputs": [
    {
     "ename": "TypeError",
     "evalue": "ProgramModel.__init__() missing 1 required positional argument: 'model_path'",
     "output_type": "error",
     "traceback": [
      "\u001b[0;31m---------------------------------------------------------------------------\u001b[0m",
      "\u001b[0;31mTypeError\u001b[0m                                 Traceback (most recent call last)",
      "\u001b[1;32m/opt/firebase/functions/model.ipynb セル 10\u001b[0m line \u001b[0;36m2\n\u001b[1;32m      <a href='vscode-notebook-cell://dev-container%2B7b22686f737450617468223a225c5c5c5c77736c2e6c6f63616c686f73745c5c5562756e7473752d32302e30345c5c686f6d655c5c616b3269655c5c726164696f2d7265636f6d6d656e64222c226c6f63616c446f636b6572223a66616c73652c22636f6e66696746696c65223a7b22246d6964223a312c2270617468223a222f686f6d652f616b3269652f726164696f2d7265636f6d6d656e642f2e646576636f6e7461696e65722f646576636f6e7461696e65722e6a736f6e222c22736368656d65223a227673636f64652d66696c65486f7374227d7d/opt/firebase/functions/model.ipynb#X13sdnNjb2RlLXJlbW90ZQ%3D%3D?line=0'>1</a>\u001b[0m \u001b[39mfrom\u001b[39;00m \u001b[39mgenerate_model\u001b[39;00m \u001b[39mimport\u001b[39;00m ProgramModel \n\u001b[0;32m----> <a href='vscode-notebook-cell://dev-container%2B7b22686f737450617468223a225c5c5c5c77736c2e6c6f63616c686f73745c5c5562756e7473752d32302e30345c5c686f6d655c5c616b3269655c5c726164696f2d7265636f6d6d656e64222c226c6f63616c446f636b6572223a66616c73652c22636f6e66696746696c65223a7b22246d6964223a312c2270617468223a222f686f6d652f616b3269652f726164696f2d7265636f6d6d656e642f2e646576636f6e7461696e65722f646576636f6e7461696e65722e6a736f6e222c22736368656d65223a227673636f64652d66696c65486f7374227d7d/opt/firebase/functions/model.ipynb#X13sdnNjb2RlLXJlbW90ZQ%3D%3D?line=1'>2</a>\u001b[0m programModel \u001b[39m=\u001b[39m ProgramModel()\n\u001b[1;32m      <a href='vscode-notebook-cell://dev-container%2B7b22686f737450617468223a225c5c5c5c77736c2e6c6f63616c686f73745c5c5562756e7473752d32302e30345c5c686f6d655c5c616b3269655c5c726164696f2d7265636f6d6d656e64222c226c6f63616c446f636b6572223a66616c73652c22636f6e66696746696c65223a7b22246d6964223a312c2270617468223a222f686f6d652f616b3269652f726164696f2d7265636f6d6d656e642f2e646576636f6e7461696e65722f646576636f6e7461696e65722e6a736f6e222c22736368656d65223a227673636f64652d66696c65486f7374227d7d/opt/firebase/functions/model.ipynb#X13sdnNjb2RlLXJlbW90ZQ%3D%3D?line=2'>3</a>\u001b[0m programModel\u001b[39m.\u001b[39mgenerate(\u001b[39m\"\u001b[39m\u001b[39m./input.csv\u001b[39m\u001b[39m\"\u001b[39m)\n",
      "\u001b[0;31mTypeError\u001b[0m: ProgramModel.__init__() missing 1 required positional argument: 'model_path'"
     ]
    }
   ],
   "source": [
    "\n",
    "from generate_model import ProgramModel \n",
    "programModel = ProgramModel()\n",
    "programModel.generate(\"./input.csv\")\n"
   ]
  },
  {
   "cell_type": "code",
   "execution_count": 26,
   "metadata": {},
   "outputs": [],
   "source": [
    "import firebase_admin\n",
    "from firebase_admin import credentials\n",
    "from firebase_admin import firestore\n",
    "import os\n",
    "\n",
    "os.environ[\"GOOGLE_APPLICATION_CREDENTIALS\"] = \"./serviceAccountKey.json\"\n",
    "\n",
    "cred = credentials.Certificate(\"./serviceAccountKey.json\")\n",
    "firebase_admin.initialize_app(credential=cred, name=\"radio_reco6\")\n",
    "\n"
   ]
  },
  {
   "cell_type": "code",
   "execution_count": 28,
   "metadata": {},
   "outputs": [],
   "source": [
    "db = firestore.client()\n",
    "\n",
    "program = {\"title\": \"おいでよ\", \"broadcast\": \"JOQR\"}\n",
    "program_ref = db.collection(\"programs\").add(program)"
   ]
  },
  {
   "cell_type": "code",
   "execution_count": 7,
   "metadata": {},
   "outputs": [
    {
     "name": "stdout",
     "output_type": "stream",
     "text": [
      "{'title': 'おいでよ!クリエイティ部', 'vector': 0, 'broadcast_call_sign': 'JOQR', 'start': '15:30', 'end': '18:00', 'day_of_week': {'monday': True, 'tuesday': True, 'wednesday': True, 'thursday': True, 'friday': True, 'saturday': False, 'sunday': False}}\n",
      "{'title': '#ふらっと', 'vector': 0, 'broadcast_call_sign': 'JOKR', 'start': '8:30', 'end': '11:00', 'day_of_week': {'monday': True, 'tuesday': True, 'wednesday': True, 'thursday': True, 'friday': False, 'saturday': False, 'sunday': False}}\n",
      "{'title': '大竹まこと ゴールデンラジオ', 'vector': 0, 'broadcast_call_sign': 'JOQR', 'start': '13:00', 'end': '15:30', 'day_of_week': {'monday': True, 'tuesday': True, 'wednesday': True, 'thursday': True, 'friday': True, 'saturday': False, 'sunday': False}}\n",
      "{'title': '荻上チキ・Session', 'vector': 0, 'broadcast_call_sign': 'JOKR', 'start': '18:00', 'end': '21:00', 'day_of_week': {'monday': True, 'tuesday': True, 'wednesday': True, 'thursday': True, 'friday': True, 'saturday': False, 'sunday': False}}\n"
     ]
    }
   ],
   "source": [
    "import csv\n",
    "\n",
    "with open(\"./input.csv\") as f:\n",
    "\treader = csv.DictReader(f)\n",
    "\tprogram_list = []\n",
    "\ttitles = []\n",
    "\tfor row in reader:\n",
    "\t\tprogram_list.append(row)\n",
    "\t\ttitles.append(row[\"title\"])\n",
    "\n",
    "\tfor i in range(0, len(titles)):\n",
    "\t\tprogram = {\n",
    "\t\t\t\"title\": titles[i], \n",
    "\t\t\t\"vector\": 0,\n",
    "\t\t\t\"broadcast_call_sign\": program_list[i][\"broadcast\"],\n",
    "\t\t\t\"start\": program_list[i][\"start\"],\n",
    "\t\t\t\"end\":  program_list[i][\"end\"],\n",
    "\t\t\t\"day_of_week\": {\n",
    "\t\t\t\t\"monday\": program_list[i][\"day_of_week\"][0] == \"o\",\n",
    "\t\t\t\t\"tuesday\": program_list[i][\"day_of_week\"][1] == \"o\",\n",
    "\t\t\t\t\"wednesday\": program_list[i][\"day_of_week\"][2] == \"o\",\n",
    "\t\t\t\t\"thursday\": program_list[i][\"day_of_week\"][3] == \"o\",\n",
    "\t\t\t\t\"friday\": program_list[i][\"day_of_week\"][4] == \"o\",\n",
    "\t\t\t\t\"saturday\": program_list[i][\"day_of_week\"][5] == \"o\",\n",
    "\t\t\t\t\"sunday\": program_list[i][\"day_of_week\"][6] == \"o\",\n",
    "\t\t\t}\n",
    "\t\t}\n",
    "\t\tprint(program)"
   ]
  }
 ],
 "metadata": {
  "kernelspec": {
   "display_name": "Python 3",
   "language": "python",
   "name": "python3"
  },
  "language_info": {
   "codemirror_mode": {
    "name": "ipython",
    "version": 3
   },
   "file_extension": ".py",
   "mimetype": "text/x-python",
   "name": "python",
   "nbconvert_exporter": "python",
   "pygments_lexer": "ipython3",
   "version": "3.11.0rc1"
  }
 },
 "nbformat": 4,
 "nbformat_minor": 2
}
